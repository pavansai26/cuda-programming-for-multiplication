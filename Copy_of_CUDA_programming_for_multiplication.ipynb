{
  "nbformat": 4,
  "nbformat_minor": 0,
  "metadata": {
    "colab": {
      "name": "Copy of CUDA  programming for multiplication.ipynb",
      "provenance": [],
      "collapsed_sections": [],
      "include_colab_link": true
    },
    "kernelspec": {
      "name": "python3",
      "display_name": "Python 3"
    },
    "accelerator": "GPU"
  },
  "cells": [
    {
      "cell_type": "markdown",
      "metadata": {
        "id": "view-in-github",
        "colab_type": "text"
      },
      "source": [
        "<a href=\"https://colab.research.google.com/github/pavansai26/cuda-programming-for-multiplication/blob/master/Copy_of_CUDA_programming_for_multiplication.ipynb\" target=\"_parent\"><img src=\"https://colab.research.google.com/assets/colab-badge.svg\" alt=\"Open In Colab\"/></a>"
      ]
    },
    {
      "cell_type": "code",
      "metadata": {
        "id": "wALFcOpcXry6",
        "colab_type": "code",
        "outputId": "9f89fc1e-e8f2-47a3-eaf8-a901b57eca8e",
        "colab": {
          "base_uri": "https://localhost:8080/",
          "height": 70
        }
      },
      "source": [
        "from google.colab import drive\n",
        "drive.mount(\"/content/gdrive\")\n",
        "\n",
        "import os\n",
        "os.chdir('/content/gdrive/My Drive')\n",
        "!pwd"
      ],
      "execution_count": 0,
      "outputs": [
        {
          "output_type": "stream",
          "text": [
            "Drive already mounted at /content/gdrive; to attempt to forcibly remount, call drive.mount(\"/content/gdrive\", force_remount=True).\n",
            "/content/gdrive/My Drive\n"
          ],
          "name": "stdout"
        }
      ]
    },
    {
      "cell_type": "code",
      "metadata": {
        "id": "gImimbupEtpX",
        "colab_type": "code",
        "outputId": "d3ef6026-14d2-430a-ad47-1c03092e012a",
        "colab": {
          "base_uri": "https://localhost:8080/",
          "height": 84
        }
      },
      "source": [
        "! nvcc --version"
      ],
      "execution_count": 0,
      "outputs": [
        {
          "output_type": "stream",
          "text": [
            "nvcc: NVIDIA (R) Cuda compiler driver\n",
            "Copyright (c) 2005-2019 NVIDIA Corporation\n",
            "Built on Sun_Jul_28_19:07:16_PDT_2019\n",
            "Cuda compilation tools, release 10.1, V10.1.243\n"
          ],
          "name": "stdout"
        }
      ]
    },
    {
      "cell_type": "code",
      "metadata": {
        "id": "CSfCkAisFVkV",
        "colab_type": "code",
        "outputId": "b5cbe418-c4da-440e-be7f-f6e682404adb",
        "colab": {
          "base_uri": "https://localhost:8080/",
          "height": 188
        }
      },
      "source": [
        "! pip install git+git://github.com/andreinechaev/nvcc4jupyter.git\n",
        "# plug in gives interface"
      ],
      "execution_count": 0,
      "outputs": [
        {
          "output_type": "stream",
          "text": [
            "Collecting git+git://github.com/andreinechaev/nvcc4jupyter.git\n",
            "  Cloning git://github.com/andreinechaev/nvcc4jupyter.git to /tmp/pip-req-build-htcw_buk\n",
            "  Running command git clone -q git://github.com/andreinechaev/nvcc4jupyter.git /tmp/pip-req-build-htcw_buk\n",
            "Requirement already satisfied (use --upgrade to upgrade): NVCCPlugin==0.0.2 from git+git://github.com/andreinechaev/nvcc4jupyter.git in /usr/local/lib/python3.6/dist-packages\n",
            "Building wheels for collected packages: NVCCPlugin\n",
            "  Building wheel for NVCCPlugin (setup.py) ... \u001b[?25l\u001b[?25hdone\n",
            "  Created wheel for NVCCPlugin: filename=NVCCPlugin-0.0.2-cp36-none-any.whl size=4307 sha256=9887103a862e51a27b2d224b50942899ebed8933080ef51f6497d553c7f39aee\n",
            "  Stored in directory: /tmp/pip-ephem-wheel-cache-2pfu2tzc/wheels/10/c2/05/ca241da37bff77d60d31a9174f988109c61ba989e4d4650516\n",
            "Successfully built NVCCPlugin\n"
          ],
          "name": "stdout"
        }
      ]
    },
    {
      "cell_type": "code",
      "metadata": {
        "id": "oibog0cWFVhf",
        "colab_type": "code",
        "outputId": "3e11bdf2-2bba-419f-888f-d66d19adc61d",
        "colab": {
          "base_uri": "https://localhost:8080/",
          "height": 50
        }
      },
      "source": [
        "%load_ext nvcc_plugin"
      ],
      "execution_count": 0,
      "outputs": [
        {
          "output_type": "stream",
          "text": [
            "The nvcc_plugin extension is already loaded. To reload it, use:\n",
            "  %reload_ext nvcc_plugin\n"
          ],
          "name": "stdout"
        }
      ]
    },
    {
      "cell_type": "code",
      "metadata": {
        "id": "fyWjf94xHQit",
        "colab_type": "code",
        "outputId": "0ab5c87a-8690-455e-f78c-686912d0bbc9",
        "colab": {
          "base_uri": "https://localhost:8080/",
          "height": 34
        }
      },
      "source": [
        "%%cuda --name helloword.cu\n",
        "#include <stdio.h>\n",
        "#include <cuda.h>\n",
        "#include <cuda_runtime.h>\n",
        "\n",
        "#define LOG_INPUT if(0)\n",
        "#define LOG_OUTPUT if(1)\n",
        "#define LOG if(0)\n",
        "\n",
        "\n",
        "__global__ void hadamard(float *A, float *B, float *C, int M, int N)\n",
        "{\n",
        "    int i = blockDim.x * blockIdx.x + threadIdx.x; # this gives id through the thread\n",
        "    int j = blockDim.y * blockIdx.y + threadIdx.y;\n",
        "    int index = i*N+j; # it gives memory address of the data we need to take\n",
        "    //printf(\"%d\\n\",index);\n",
        "    if (index < M*N)\n",
        "    {\n",
        "        C[index] = A[index] * B[index];\n",
        "    }\n",
        "}\n",
        "\n",
        "/**\n",
        " * Host main routine\n",
        " */\n",
        "void print_matrix(float *A,int m,int n)\n",
        "{\n",
        "    for(int i =0;i<m;i++)\n",
        "    {\n",
        "        for(int j=0;j<n;j++)\n",
        "            printf(\"%.2f \",A[i*n+j]);\n",
        "        printf(\"\\n\");\n",
        "    }\n",
        "\n",
        "}\n",
        "int main(void)\n",
        "{\n",
        "    // Error code to check return values for CUDA calls\n",
        "    cudaError_t err = cudaSuccess;\n",
        "\n",
        "    // Print the vector length to be used, and compute its size\n",
        "    \n",
        "    int t;\n",
        "    scanf(\"%d\",&t);\n",
        "    while(t--)\n",
        "    {\n",
        "        int m,n;\n",
        "        scanf(\"%d %d\",&m,&n);\n",
        "        size_t size = m*n * sizeof(float);\n",
        "        LOG printf(\"[Hadamard product of two matrices ]\\n\");\n",
        "\n",
        "        // Allocate the host input vector A\n",
        "        float *h_A = (float *)malloc(size);\n",
        "        // Allocate the host input vector B\n",
        "        float *h_B = (float *)malloc(size);\n",
        "        // Allocate the host output vector C\n",
        "        float *h_C = (float *)malloc(size);\n",
        "\n",
        "        // Verify that allocations succeeded\n",
        "        if (h_A == NULL || h_B == NULL || h_C == NULL)\n",
        "        {\n",
        "            fprintf(stderr, \"Failed to allocate host vectors!\\n\");\n",
        "            exit(EXIT_FAILURE);\n",
        "        }\n",
        "\n",
        "        // Initialize the host input vectors\n",
        "        \n",
        "        for (int i = 0; i < n*m; ++i)\n",
        "        {\n",
        "            scanf(\"%f\",&h_A[i]);\n",
        "            scanf(\"%f\",&h_B[i]);\n",
        "\n",
        "        }\n",
        "        \n",
        "        \n",
        "        // Allocate the device input vector A\n",
        "        float *d_A = NULL;\n",
        "        err = cudaMalloc((void **)&d_A, size);\n",
        "\n",
        "        if (err != cudaSuccess)\n",
        "        {\n",
        "            fprintf(stderr, \"Failed to allocate device vector A (error code %s)!\\n\", cudaGetErrorString(err));\n",
        "            exit(EXIT_FAILURE);\n",
        "        }\n",
        "\n",
        "        // Allocate the device input vector B\n",
        "        float *d_B = NULL;\n",
        "        err = cudaMalloc((void **)&d_B, size);\n",
        "\n",
        "        if (err != cudaSuccess)\n",
        "        {\n",
        "            fprintf(stderr, \"Failed to allocate device vector B (error code %s)!\\n\", cudaGetErrorString(err));\n",
        "            exit(EXIT_FAILURE);\n",
        "        }\n",
        "\n",
        "        // Allocate the device output vector C\n",
        "        float *d_C = NULL;\n",
        "        err = cudaMalloc((void **)&d_C, size);\n",
        "\n",
        "        if (err != cudaSuccess)\n",
        "        {\n",
        "            fprintf(stderr, \"Failed to allocate device vector C (error code %s)!\\n\", cudaGetErrorString(err));\n",
        "            exit(EXIT_FAILURE);\n",
        "        }\n",
        "\n",
        "        // Copy the host input vectors A and B in host memory to the device input vectors in\n",
        "        // device memory\n",
        "        LOG printf(\"Copy input data from the host memory to the CUDA device\\n\");\n",
        "        err = cudaMemcpy(d_A, h_A, size, cudaMemcpyHostToDevice);\n",
        "\n",
        "        if (err != cudaSuccess)\n",
        "        {\n",
        "            fprintf(stderr, \"Failed to copy vector A from host to device (error code %s)!\\n\", cudaGetErrorString(err));\n",
        "            exit(EXIT_FAILURE);\n",
        "        }\n",
        "\n",
        "        err = cudaMemcpy(d_B, h_B, size, cudaMemcpyHostToDevice);\n",
        "\n",
        "        if (err != cudaSuccess)\n",
        "        {\n",
        "            fprintf(stderr, \"Failed to copy vector B from host to device (error code %s)!\\n\", cudaGetErrorString(err));\n",
        "            exit(EXIT_FAILURE);\n",
        "        }\n",
        "\n",
        "        \n",
        "        dim3 threadsPerBlock(32,32,1);\n",
        "        dim3 blocksPerGrid(m/32,n/32,1);\n",
        "        \n",
        "        LOG printf(\"Number of blocks %d %d\\n\",m/256,n/256);\n",
        "        hadamard<<<blocksPerGrid, threadsPerBlock>>>(d_A, d_B, d_C, m, n);\n",
        "        err = cudaGetLastError();\n",
        "\n",
        "        if (err != cudaSuccess)\n",
        "        {\n",
        "            fprintf(stderr, \"Failed to launch vectorAdd kernel (error code %s)!\\n\", cudaGetErrorString(err));\n",
        "            exit(EXIT_FAILURE);\n",
        "        }\n",
        "\n",
        "        // Copy the device result vector in device memory to the host result vector\n",
        "        // in host memory.\n",
        "        LOG printf(\"Copy output data from the CUDA device to the host memory\\n\");\n",
        "        err = cudaMemcpy(h_C, d_C, size, cudaMemcpyDeviceToHost);\n",
        "\n",
        "        if (err != cudaSuccess)\n",
        "        {\n",
        "            fprintf(stderr, \"Failed to copy vector C from device to host (error code %s)!\\n\", cudaGetErrorString(err));\n",
        "            exit(EXIT_FAILURE);\n",
        "        }\n",
        "\n",
        "        // Verify that the result vector is correct\n",
        "        for (int i = 0; i < n*m; ++i)\n",
        "        {\n",
        "            if (fabs(h_A[i] * h_B[i] - h_C[i]) > 1e-5)\n",
        "            {\n",
        "                fprintf(stderr, \"Result verification failed at element %d!\\n\", i);\n",
        "                exit(EXIT_FAILURE);\n",
        "            }\n",
        "        }\n",
        "\n",
        "        LOG printf(\"Test PASSED\\n\");\n",
        "\n",
        "        // Free device global memory\n",
        "        err = cudaFree(d_A);\n",
        "\n",
        "        if (err != cudaSuccess)\n",
        "        {\n",
        "            fprintf(stderr, \"Failed to free device vector A (error code %s)!\\n\", cudaGetErrorString(err));\n",
        "            exit(EXIT_FAILURE);\n",
        "        }\n",
        "\n",
        "        err = cudaFree(d_B);\n",
        "\n",
        "        if (err != cudaSuccess)\n",
        "        {\n",
        "            fprintf(stderr, \"Failed to free device vector B (error code %s)!\\n\", cudaGetErrorString(err));\n",
        "            exit(EXIT_FAILURE);\n",
        "        }\n",
        "\n",
        "        err = cudaFree(d_C);\n",
        "\n",
        "        if (err != cudaSuccess)\n",
        "        {\n",
        "            fprintf(stderr, \"Failed to free device vector C (error code %s)!\\n\", cudaGetErrorString(err));\n",
        "            exit(EXIT_FAILURE);\n",
        "        }\n",
        "\n",
        "        // Free host memory\n",
        "        free(h_A);\n",
        "        free(h_B);\n",
        "        free(h_C);\n",
        "\n",
        "        // Reset the device and exit\n",
        "        // cudaDeviceReset causes the driver to clean up all state. While\n",
        "        // not mandatory in normal operation, it is good practice.  It is also\n",
        "        // needed to ensure correct operation when the application is being\n",
        "        // profiled. Calling cudaDeviceReset causes all profile data to be\n",
        "        // flushed before the application exits\n",
        "        err = cudaDeviceReset();\n",
        "\n",
        "        if (err != cudaSuccess)\n",
        "        {\n",
        "            fprintf(stderr, \"Failed to deinitialize the device! error=%s\\n\", cudaGetErrorString(err));\n",
        "            exit(EXIT_FAILURE);\n",
        "        }\n",
        "        print_matrix(h_C,m,n);\n",
        "        LOG printf(\"Done\\n\");\n",
        "    }\n",
        "    return 0;\n",
        "}\n",
        "\n"
      ],
      "execution_count": 0,
      "outputs": [
        {
          "output_type": "execute_result",
          "data": {
            "text/plain": [
              "'File written in /content/gdrive/My Drive/src/helloword.cu'"
            ]
          },
          "metadata": {
            "tags": []
          },
          "execution_count": 23
        }
      ]
    },
    {
      "cell_type": "code",
      "metadata": {
        "id": "ymtUYM1OKt5o",
        "colab_type": "code",
        "outputId": "548eb1e2-9926-44cd-d851-710d4abd56d9",
        "colab": {
          "base_uri": "https://localhost:8080/",
          "height": 286
        }
      },
      "source": [
        "#!nvcc /content/src/helloword.cu -o /content/src/helloword\n",
        "!pwd\n",
        "!nvcc \"/content/gdrive/My Drive/src/helloword.cu\" -o \"/content/gdrive/My Drive/src/helloword.cu\""
      ],
      "execution_count": 0,
      "outputs": [
        {
          "output_type": "stream",
          "text": [
            "/content/gdrive/My Drive\n",
            "/content/gdrive/My Drive/src/helloword.cu(12): error: \"#\" not expected here\n",
            "\n",
            "/content/gdrive/My Drive/src/helloword.cu(12): error: expected an expression\n",
            "\n",
            "/content/gdrive/My Drive/src/helloword.cu(14): error: identifier \"j\" is undefined\n",
            "\n",
            "/content/gdrive/My Drive/src/helloword.cu(14): error: \"#\" not expected here\n",
            "\n",
            "/content/gdrive/My Drive/src/helloword.cu(14): error: expected an expression\n",
            "\n",
            "/content/gdrive/My Drive/src/helloword.cu(20): warning: parsing restarts here after previous syntax error\n",
            "\n",
            "/content/gdrive/My Drive/src/helloword.cu(20): error: expected a \";\"\n",
            "\n",
            "6 errors detected in the compilation of \"/tmp/tmpxft_00000687_00000000-8_helloword.cpp1.ii\".\n"
          ],
          "name": "stdout"
        }
      ]
    },
    {
      "cell_type": "code",
      "metadata": {
        "id": "FfFgA5XoRMuU",
        "colab_type": "code",
        "outputId": "870cfdaf-72e5-4d3b-f4c3-38c87df1e5fb",
        "colab": {
          "base_uri": "https://localhost:8080/",
          "height": 1000
        }
      },
      "source": [
        "!ls"
      ],
      "execution_count": 0,
      "outputs": [
        {
          "output_type": "stream",
          "text": [
            "'10 SIGNAL AND SYSTEMS.PDF'\n",
            "'11 MEASUREMENTS PART 1 (1).PDF'\n",
            "'11 MEASUREMENTS PART 2.PDF'\n",
            "'12  POWER ELECTRONICS PART 1.PDF'\n",
            "'12 POWER ELECTRONICS PART 2.PDF'\n",
            "'1.DIGITAL ELECTRONICS AND MICROPROCESSOR  WORK BOOK-1.PDF'\n",
            "'1.DIGITAL ELECTRONICS THEORY WITH PRACTICE QUESTIONS.PDF'\n",
            "'1_List Manual_for_6RA80.pdf'\n",
            "'2.ANALOG  ELECTRONICS WORK BOOK-1.PDF'\n",
            "'2.NETWORK  CIRCUITS THEORY WITH PRACTISE BOOK.PDF'\n",
            "'3.MATHS APTITUDE AND ENGLISH-1.PDF'\n",
            "'3. MICROPROCESSOR THEORY WITH PRACTICE QUESTIONS.PDF'\n",
            " 4.EMF.PDF\n",
            "'4.NETWORKS AND CONTROL SYSTEMS WORK BOOK-1.PDF'\n",
            " 5_6154406436852990046.pdf\n",
            "'5.CONTROL SYSTEMS MISSED PAGE 331.PDF'\n",
            "'5.CONTROL SYSTEMS PART 1.PDF'\n",
            "'5. CONTROL SYSTEMS PART 2.PDF'\n",
            "'5. CONTROL SYSTEMS PART 3.PDF'\n",
            "'5.CONTROL SYSTEMS PART 4.PDF'\n",
            "'5.CONTROL SYSTEMS PART 5.PDF'\n",
            "'5.ELECTRICAL MACHINES AND ELECTROMAGNETIC THEORY WORK BOOK-1.PDF'\n",
            "'6.COMMUNICATIONS,MATERIALS,COMPUTER FUNDEMENTALS WORK BOOK-1.PDF'\n",
            "'6. MATERIAL SCIENCES THEORY WITH PRACTISE.PDF'\n",
            "'7.ANALOG ELECTRONICS THEORY WITH PRACTISE PART 1.PDF'\n",
            "'7.MEASUREMENT AND POWER ELECTRONICS WORK BOOK-1.PDF'\n",
            "'80. POWER SYSTEMS   PART 1.PDF'\n",
            "'81.POWER SYSTEMS PART 2.PDF'\n",
            "'82. POWER SYSTEMS PART 3.PDF'\n",
            "'83. POWER SYSTEMS PART 4.PDF'\n",
            "'84.POWER SYSTEMS PART 5.PDF'\n",
            "'85 POWER SYSTEMS PART 6.PDF'\n",
            "'8.POWER SYSTEMS AND SIGNAL SYSTEMS-1.PDF'\n",
            "'91  ELECTRICAL MACHINES PART 1.PDF'\n",
            "'92 ELECTRICAL MACHINES PART 2.PDF'\n",
            " all\n",
            "'Analog Circuits_TYS_1029.pdf'\n",
            "'analog ee-1.pdf'\n",
            " Analogs\n",
            " Application_SINAMICS_DCM_field_supply_unit.pdf\n",
            " arduino_example_sketch___fade_.c\n",
            " Assembly2.iam\n",
            " Audio\n",
            "'basics of linear algebra 1 matrix operations.ipynb'\n",
            "'basics of linear algebra.ipynb'\n",
            " BLIND\n",
            " Build-First-Of-Its-Kind-NLP-Based-Framework-To-Evolve-From-Keyword-Based-To-Intent-Based-Search-Recommendations-Wavelabs.pdf\n",
            "'Building recommendation engines.pdf'\n",
            " Catalog_D23_1-SINAMICS-DCM.pdf\n",
            "'CellStrat_Workshop (1).ipynb'\n",
            " champagne.csv\n",
            "'Clinical text mining.pdf'\n",
            "'Colab Notebooks'\n",
            "'commissioning steps for 6RA80.pdf'\n",
            "'Commissioning steps for G-120.pdf'\n",
            "'Computer Fundamental_Try yourself_1021.pdf'\n",
            "'Control Systems'\n",
            "'Control System_TYS_1033.pdf'\n",
            " Converging_Technologies_for_Smart_Environments_and_Integrated_Ecosystems_IERC_Book_Open_Access_2013.pdf\n",
            "'covid 19 code jam.ipynb'\n",
            " CUDA.ipynb\n",
            "'Deep Learning and Convolutional Neural Networks for Medical Image Computing: Precision Medicine, High Performance and Large-Scale Datasets ( PDFDrive.com ).pdf'\n",
            "'Deep Learning Cookbook: Practical Recipes to Get Started Quickly ( PDFDrive.com ).pdf'\n",
            "'Deep learning in natural language processing-1.pdf'\n",
            "'deep learning using tensorflow.ipynb'\n",
            "'deep learning with keras.pdf'\n",
            "'difference between umap and clustering.ipynb'\n",
            "'Digital Electronics_TYS_1026.pdf'\n",
            " Digitals\n",
            "'DIM REDUCTION ISOMAP.ipynb'\n",
            " documents\n",
            "'dogs and cats using fast ai.ipynb'\n",
            " Download\n",
            " EE.pdf\n",
            "'Electrical Circuits'\n",
            "'Electrical Machines'\n",
            "'Electrical Machines_Try Yourself_1023.pdf'\n",
            "'Electrical Materials_TYS_1034.pdf'\n",
            "'Electrical Technology V U Bakhshi A very nice book.pdf'\n",
            "'Electromagnetic Theory'\n",
            "'emotional analysis.ipynb'\n",
            "'EMT_Try Yourself_1022.pdf'\n",
            "'face expression recognition.ipynb'\n",
            "'face land mark detection.ipynb'\n",
            "'Feature Engineering for Machine Learning: Principles and Techniques for Data Scientists ( PDFDrive.com ).pdf'\n",
            " flights.csv.xlsx\n",
            "'flower recognition.ipynb'\n",
            "'Foundations of Computer Vision: Computational Geometry, Visual Image Structures and Object Shape Detection ( PDFDrive.com ).pdf'\n",
            "'FPGA Implementations of Neural Networks ( PDFDrive.com ).pdf'\n",
            "'GATE 2'\n",
            "'GAUSSIAN MIXTURE MODEL CLUSTERING.ipynb'\n",
            "'General rules of electrical installation design - Schneider Electric ( PDFDrive.com ).pdf'\n",
            "'Getting started (1).pdf'\n",
            "'Getting started.pdf'\n",
            "'Google Photos'\n",
            "'HCL CHALLENGE'\n",
            "'High-dimensional statistics a non-asymptotic viewpoint.pdf'\n",
            "'IIT BOMBAY ideathon certificatePAVAN SAI.pdf'\n",
            " index.pdf\n",
            "'Kernel based algorithms for mining huge data sets supervised semi-supervised and unsupervised learning-1.pdf'\n",
            "' K MEANS  CLUSTERING with out elbow method.ipynb'\n",
            " LH15_0113_eng_-_Copy.pdf\n",
            " List_manual_for_G-120.pdf\n",
            "'machine learning'\n",
            "'Machine learning discriminative and generative.pdf'\n",
            "'Machine Learning for the Web ( PDFDrive.com ).pdf'\n",
            " Maths\n",
            "'MATLAB Control Systems Engineering - César Pérez López (Apress, 2014).pdf'\n",
            " Measurements\n",
            " Microprocessor_TYS_1028.pdf\n",
            "'Microsoft api.pdf'\n",
            "'Mining Text Data ( PDFDrive.com ).pdf'\n",
            "'MLFB for 6RA80.pdf'\n",
            "'MNIST DIGITS DATA USING datagenerator.ipynb'\n",
            " mobile.ipynb\n",
            " mobiles\n",
            " mobiles.zip\n",
            "'Module 1_Lecture 1.pdf.gdoc'\n",
            "'musk_csv (1).csv'\n",
            " musk_csv.csv\n",
            "'natural images'\n",
            "'Network Analysis_K-Wiki_Chapter 1_Basic Concepts.pdf'\n",
            "'new emt-2.pdf'\n",
            " news.csv\n",
            " news.zip\n",
            " object_measure.ipynb\n",
            " opencv_human.ipynb\n",
            "'outliers dtection using elliptical envelope and oneclass svm.ipynb'\n",
            "'outliers using isolation forest algorithm.ipynb'\n",
            "'pavan123456(3).pdf'\n",
            " pavan123456.pdf\n",
            "'Pavansai (2) (1).pdf'\n",
            "'Pavansai (2).pdf'\n",
            "'Pavansai 30-01-2020 resume (1).pdf'\n",
            "'Pavansai 30-01-2020 resume (2).pdf'\n",
            "'Pavansai 30-01-2020 resume (3).pdf'\n",
            "'Pavansai 30-01-2020 resume (4).pdf'\n",
            "'Pavansai 30-01-2020 resume (5).pdf'\n",
            "'Pavansai 30-01-2020 resume (6).pdf'\n",
            "'Pavansai 30-01-2020 resume (7).pdf'\n",
            "'Pavansai 30-01-2020 resume (8).pdf'\n",
            "'Pavansai 30-01-2020 resume.pdf'\n",
            " PAVANSAI.html\n",
            " Pavansai.pdf\n",
            "'PAVAN sai resume.docx'\n",
            "'Pavan sai    Software Trainee Apptmt Letter.pdf'\n",
            "'pavan updated resume (1).pdf'\n",
            "'pavan updated resume.pdf'\n",
            "'Play Books Notes'\n",
            "'Power Electronics'\n",
            "'Power Systems'\n",
            "'Power System_TYS_Final_1024.pdf'\n",
            "'Practical statistics for data scientists: 50 essential concepts ( PDFDrive.com ).pdf'\n",
            " praneeth.mp4\n",
            " Principles_of_Data_Science.pdf\n",
            " profImg.png\n",
            "'projecrreport suresh'\n",
            " pycon2019\n",
            "'quantized mobilenet.ipynb'\n",
            " recommendersystemshandbook.pdf\n",
            "'Recommender systems the textbook.pdf'\n",
            " refernces.pdf\n",
            "'SELECTION OF AC DRIVE.pdf'\n",
            "'sentimaent analysis.ipynb'\n",
            " sentimaent_analysis.ipynb\n",
            " Siemens\n",
            " Signals\n",
            " Signals_Systems_TYS_1025.pdf\n",
            " SINAMICS_DCM_Commutation_reactors-en.pdf\n",
            "'Social network-based recommender systems.pdf'\n",
            "'spacy transformers.ipynb'\n",
            "'spacy word vectors .ipynb'\n",
            " src\n",
            "'Support vector machines.pdf'\n",
            " suresh\n",
            " Text-Learning.pdf\n",
            "'time series using arima .ipynb'\n",
            "'toyota data.ipynb'\n",
            "'Try Yourself_MI_Final_1020.pdf'\n",
            "'Try Yourself_Network_1053.pdf'\n",
            "'TSNE IMPLEMENTATION.ipynb'\n",
            " Tweets.csv\n",
            "'UMAP DIMENSIONALITY REDUCTION.ipynb'\n",
            " Untitled0.ipynb\n",
            " Untitled1.ipynb\n",
            " Untitled2.ipynb\n",
            " Untitled3.ipynb\n",
            " Untitled4.ipynb\n",
            " Untitled5.ipynb\n",
            " Untitled6.ipynb\n",
            " Untitled7.ipynb\n",
            " Untitled8.ipynb\n",
            "'Untitled folder'\n",
            "'Untitled Site.gsite'\n",
            " VID_20190314_130502553.mp4\n",
            " VidMate\n"
          ],
          "name": "stdout"
        }
      ]
    },
    {
      "cell_type": "code",
      "metadata": {
        "id": "Ai49Teg9RQe1",
        "colab_type": "code",
        "outputId": "da78e811-8cdb-4b93-ee3b-98b1c02ce170",
        "colab": {
          "base_uri": "https://localhost:8080/",
          "height": 34
        }
      },
      "source": [
        "!cd src\n",
        "\n",
        "!pwd"
      ],
      "execution_count": 0,
      "outputs": [
        {
          "output_type": "stream",
          "text": [
            "/content/gdrive/My Drive\n"
          ],
          "name": "stdout"
        }
      ]
    },
    {
      "cell_type": "code",
      "metadata": {
        "id": "FdAgTEtTR6Pt",
        "colab_type": "code",
        "outputId": "5991b590-5726-4c4c-f352-891181311717",
        "colab": {
          "base_uri": "https://localhost:8080/",
          "height": 34
        }
      },
      "source": [
        "!\"/content/gdrive/My Drive/sample_input.txt\" < sample_input.txt"
      ],
      "execution_count": 0,
      "outputs": [
        {
          "output_type": "stream",
          "text": [
            "/bin/bash: sample_input.txt: No such file or directory\n"
          ],
          "name": "stdout"
        }
      ]
    },
    {
      "cell_type": "code",
      "metadata": {
        "id": "fav6ZxShT5er",
        "colab_type": "code",
        "colab": {}
      },
      "source": [
        ""
      ],
      "execution_count": 0,
      "outputs": []
    },
    {
      "cell_type": "code",
      "metadata": {
        "id": "lh8LkylYX3Hw",
        "colab_type": "code",
        "outputId": "d6a43fd4-2bb2-4ed7-c93a-e38a7726cc5b",
        "colab": {
          "base_uri": "https://localhost:8080/",
          "height": 34
        }
      },
      "source": [
        "%%cuda --name matmul.cu\n",
        "#include <algorithm>\n",
        "#include <cassert>\n",
        "#include <cstdlib>\n",
        "#include <functional>\n",
        "#include <iostream>\n",
        "#include <vector>\n",
        "\n",
        "using std::cout;\n",
        "using std::generate;\n",
        "using std::vector;\n",
        "\n",
        "__global__ void matrixMul(const int *a, const int *b, int *c, int N) {\n",
        "  // Compute each thread's global row and column index\n",
        "  int row = blockIdx.y * blockDim.y + threadIdx.y;\n",
        "  int col = blockIdx.x * blockDim.x + threadIdx.x;\n",
        "\n",
        "  // Iterate over row, and down column\n",
        "  c[row * N + col] = 0;\n",
        "  for (int k = 0; k < N; k++) {\n",
        "    // Accumulate results for a single element\n",
        "    c[row * N + col] += a[row * N + k] * b[k * N + col];\n",
        "  }\n",
        "}\n",
        "\n",
        "// Check result on the CPU\n",
        "void verify_result(vector<int> &a, vector<int> &b, vector<int> &c, int N) {\n",
        "  // For every row...\n",
        "  for (int i = 0; i < N; i++) {\n",
        "    // For every column...\n",
        "    for (int j = 0; j < N; j++) {\n",
        "      // For every element in the row-column pair\n",
        "      int tmp = 0;\n",
        "      for (int k = 0; k < N; k++) {\n",
        "        // Accumulate the partial results\n",
        "        tmp += a[i * N + k] * b[k * N + j];\n",
        "      }\n",
        "\n",
        "      // Check against the CPU result\n",
        "      assert(tmp == c[i * N + j]);\n",
        "    }\n",
        "  }\n",
        "}\n",
        "\n",
        "int main() {\n",
        "  // Matrix size of 1024 x 1024;\n",
        "  int N = 1 << 10;\n",
        "\n",
        "  // Size (in bytes) of matrix\n",
        "  size_t bytes = N * N * sizeof(int);\n",
        "\n",
        "  // Host vectors\n",
        "  vector<int> h_a(N * N);\n",
        "  vector<int> h_b(N * N);\n",
        "  vector<int> h_c(N * N);\n",
        "\n",
        "  // Initialize matrices\n",
        "  generate(h_a.begin(), h_a.end(), []() { return rand() % 100; });\n",
        "  generate(h_b.begin(), h_b.end(), []() { return rand() % 100; });\n",
        "\n",
        "  // Allocate device memory\n",
        "  int *d_a, *d_b, *d_c;\n",
        "  cudaMalloc(&d_a, bytes);\n",
        "  cudaMalloc(&d_b, bytes);\n",
        "  cudaMalloc(&d_c, bytes);\n",
        "\n",
        "  // Copy data to the device\n",
        "  cudaMemcpy(d_a, h_a.data(), bytes, cudaMemcpyHostToDevice);\n",
        "  cudaMemcpy(d_b, h_b.data(), bytes, cudaMemcpyHostToDevice);\n",
        "\n",
        "  // Threads per CTA dimension\n",
        "  int THREADS = 32;\n",
        "\n",
        "  // Blocks per grid dimension (assumes THREADS divides N evenly)\n",
        "  int BLOCKS = N / THREADS;\n",
        "\n",
        "  // Use dim3 structs for block  and grid dimensions\n",
        "  dim3 threads(THREADS, THREADS);\n",
        "  dim3 blocks(BLOCKS, BLOCKS);\n",
        "\n",
        "  // Launch kernel\n",
        "  matrixMul<<<blocks, threads>>>(d_a, d_b, d_c, N);\n",
        "\n",
        "  // Copy back to the host\n",
        "  cudaMemcpy(h_c.data(), d_c, bytes, cudaMemcpyDeviceToHost);\n",
        "\n",
        "  // Check result\n",
        "  verify_result(h_a, h_b, h_c, N);\n",
        "\n",
        "  cout << \"COMPLETED SUCCESSFULLY\\n\";\n",
        "\n",
        "  // Free memory on device\n",
        "  cudaFree(d_a);\n",
        "  cudaFree(d_b);\n",
        "  cudaFree(d_c);\n",
        "\n",
        "  return 0;\n",
        "}\n",
        "\n"
      ],
      "execution_count": 0,
      "outputs": [
        {
          "output_type": "execute_result",
          "data": {
            "text/plain": [
              "'File written in /content/gdrive/My Drive/src/matmul.cu'"
            ]
          },
          "metadata": {
            "tags": []
          },
          "execution_count": 29
        }
      ]
    },
    {
      "cell_type": "code",
      "metadata": {
        "id": "32tHVgunco9u",
        "colab_type": "code",
        "colab": {}
      },
      "source": [
        "!nvcc \"/content/gdrive/My Drive/src/matmul.cu\" -o \"/content/gdrive/My Drive/src/matmul\""
      ],
      "execution_count": 0,
      "outputs": []
    },
    {
      "cell_type": "code",
      "metadata": {
        "id": "NYOAto3NdBWl",
        "colab_type": "code",
        "outputId": "d8e2c372-3bff-418e-f20e-fccd1f856cbf",
        "colab": {
          "base_uri": "https://localhost:8080/",
          "height": 34
        }
      },
      "source": [
        "!\"/content/gdrive/My Drive/Vivek-PC-2015/vsinghal/business/Disrupt4.0/AI Lab/demos/AI Hardware/Accelerated Linear Algebra/src/matmul\" < sample_input.txt"
      ],
      "execution_count": 0,
      "outputs": [
        {
          "output_type": "stream",
          "text": [
            "COMPLETED SUCCESSFULLY\n"
          ],
          "name": "stdout"
        }
      ]
    },
    {
      "cell_type": "code",
      "metadata": {
        "id": "5fXX_2p1dKUp",
        "colab_type": "code",
        "colab": {}
      },
      "source": [
        ""
      ],
      "execution_count": 0,
      "outputs": []
    },
    {
      "cell_type": "code",
      "metadata": {
        "id": "aMz2GatidKjl",
        "colab_type": "code",
        "colab": {}
      },
      "source": [
        ""
      ],
      "execution_count": 0,
      "outputs": []
    },
    {
      "cell_type": "code",
      "metadata": {
        "id": "VFfTa0LQZP81",
        "colab_type": "code",
        "outputId": "d4161173-f66a-40fd-97d1-24dc096fd092",
        "colab": {
          "base_uri": "https://localhost:8080/",
          "height": 34
        }
      },
      "source": [
        "%%cuda --name cublas.cu\n",
        "#include <cublas_v2.h>\n",
        "#include <curand.h>\n",
        "#include <cassert>\n",
        "#include <cmath>\n",
        "#include <ctime>\n",
        "#include <iostream>\n",
        "#include <vector>\n",
        "\n",
        "// Verify our result on the CPU\n",
        "// Indexing must account for the CUBLAS operating on column-major data\n",
        "void verify_solution(float *a, float *b, float *c, int M, int N, int K) {\n",
        "  // Tolerance for our result (floats are imperfect)\n",
        "  float epsilon = 0.001f;\n",
        "\n",
        "  // For every row...\n",
        "  for (int row = 0; row < M; row++) {\n",
        "    // For every column\n",
        "    for (int col = 0; col < N; col++) {\n",
        "      // For every element in the row-col pair...\n",
        "      float temp = 0;\n",
        "      for (int i = 0; i < K; i++) {\n",
        "        temp += a[row + M * i] * b[col * K + i];\n",
        "      }\n",
        "\n",
        "      // Check to see if the difference falls within our tolerance\n",
        "      assert(fabs(c[col * M + row] - temp) <= epsilon);\n",
        "    }\n",
        "  }\n",
        "}\n",
        "\n",
        "int main() {\n",
        "  // Dimensions for our matrices\n",
        "  // MxK * KxN = MxN\n",
        "  const int M = 1 << 9;\n",
        "  const int N = 1 << 8;\n",
        "  const int K = 1 << 7;\n",
        "\n",
        "  // Pre-calculate the size (in bytes) of our matrices\n",
        "  const size_t bytes_a = M * K * sizeof(float);\n",
        "  const size_t bytes_b = K * N * sizeof(float);\n",
        "  const size_t bytes_c = M * N * sizeof(float);\n",
        "\n",
        "  // Vectors for the host data\n",
        "  std::vector<float> h_a(M * K);\n",
        "  std::vector<float> h_b(K * N);\n",
        "  std::vector<float> h_c(M * N);\n",
        "  \n",
        "  // Allocate device memory\n",
        "  float *d_a, *d_b, *d_c;\n",
        "  cudaMalloc(&d_a, bytes_a);\n",
        "  cudaMalloc(&d_b, bytes_b);\n",
        "  cudaMalloc(&d_c, bytes_c);\n",
        "\n",
        "  // Pseudo random number generator\n",
        "  curandGenerator_t prng;\n",
        "  curandCreateGenerator(&prng, CURAND_RNG_PSEUDO_DEFAULT);\n",
        "\n",
        "  // Set the seed\n",
        "  curandSetPseudoRandomGeneratorSeed(prng, (unsigned long long)clock());\n",
        "\n",
        "  // Fill the matrix with random numbers on the device\n",
        "  curandGenerateUniform(prng, d_a, M * K);\n",
        "  curandGenerateUniform(prng, d_b, K * M);\n",
        "\n",
        "  // cuBLAS handle\n",
        "  cublasHandle_t handle;\n",
        "  cublasCreate(&handle);\n",
        "\n",
        "  // Scalaing factors\n",
        "  float alpha = 1.0f;\n",
        "  float beta = 0.0f;\n",
        "\n",
        "  // Calculate: c = (alpha*a) * b + (beta*c)\n",
        "  // MxN = MxK * KxN\n",
        "  // Signature: handle, operation, operation, M, N, K, alpha, A, lda, B, ldb,\n",
        "  // beta, C, ldc\n",
        "  cublasSgemm(handle, CUBLAS_OP_N, CUBLAS_OP_N, M, N, K, &alpha, d_a, M, d_b, K,\n",
        "              &beta, d_c, M);\n",
        "\n",
        "  // Copy back the three matrices\n",
        "  cudaMemcpy(h_a.data(), d_a, bytes_a, cudaMemcpyDeviceToHost);\n",
        "  cudaMemcpy(h_b.data(), d_b, bytes_b, cudaMemcpyDeviceToHost);\n",
        "  cudaMemcpy(h_c.data(), d_c, bytes_c, cudaMemcpyDeviceToHost);\n",
        "\n",
        "  // Verify solution\n",
        "  verify_solution(h_a.data(), h_b.data(), h_c.data(), M, N, K);\n",
        "  std::cout << \"COMPLETED SUCCESSFULLY\\n\";\n",
        "\n",
        "  // Free our memory\n",
        "  cudaFree(d_a);\n",
        "  cudaFree(d_b);\n",
        "  cudaFree(d_c);\n",
        "\n",
        "  return 0;\n",
        "}"
      ],
      "execution_count": 0,
      "outputs": [
        {
          "output_type": "execute_result",
          "data": {
            "text/plain": [
              "'File written in /content/gdrive/My Drive/src/cublas.cu'"
            ]
          },
          "metadata": {
            "tags": []
          },
          "execution_count": 32
        }
      ]
    },
    {
      "cell_type": "code",
      "metadata": {
        "id": "Idr87WLtcj1I",
        "colab_type": "code",
        "colab": {}
      },
      "source": [
        ""
      ],
      "execution_count": 0,
      "outputs": []
    },
    {
      "cell_type": "code",
      "metadata": {
        "id": "MTXMoQUKZabo",
        "colab_type": "code",
        "outputId": "4b51cdca-66af-4f4d-fc69-8694b2accfa5",
        "colab": {
          "base_uri": "https://localhost:8080/",
          "height": 151
        }
      },
      "source": [
        "!nvcc \"/content/gdrive/My Drive/src/cublas.cu\" -o \"/content/gdrive/My Drive/src/cublas\""
      ],
      "execution_count": 0,
      "outputs": [
        {
          "output_type": "stream",
          "text": [
            "/tmp/tmpxft_00000831_00000000-10_cublas.o: In function `main':\n",
            "tmpxft_00000831_00000000-5_cublas.cudafe1.cpp:(.text+0x4cf): undefined reference to `curandCreateGenerator'\n",
            "tmpxft_00000831_00000000-5_cublas.cudafe1.cpp:(.text+0x4e9): undefined reference to `curandSetPseudoRandomGeneratorSeed'\n",
            "tmpxft_00000831_00000000-5_cublas.cudafe1.cpp:(.text+0x507): undefined reference to `curandGenerateUniform'\n",
            "tmpxft_00000831_00000000-5_cublas.cudafe1.cpp:(.text+0x525): undefined reference to `curandGenerateUniform'\n",
            "tmpxft_00000831_00000000-5_cublas.cudafe1.cpp:(.text+0x534): undefined reference to `cublasCreate_v2'\n",
            "tmpxft_00000831_00000000-5_cublas.cudafe1.cpp:(.text+0x5b1): undefined reference to `cublasSgemm_v2'\n",
            "collect2: error: ld returned 1 exit status\n"
          ],
          "name": "stdout"
        }
      ]
    },
    {
      "cell_type": "code",
      "metadata": {
        "id": "UqFsFZYoZv0u",
        "colab_type": "code",
        "colab": {}
      },
      "source": [
        ""
      ],
      "execution_count": 0,
      "outputs": []
    },
    {
      "cell_type": "code",
      "metadata": {
        "id": "i2N9hzqaZwca",
        "colab_type": "code",
        "colab": {}
      },
      "source": [
        ""
      ],
      "execution_count": 0,
      "outputs": []
    },
    {
      "cell_type": "code",
      "metadata": {
        "id": "PIO0ygZ4Zvxo",
        "colab_type": "code",
        "colab": {}
      },
      "source": [
        ""
      ],
      "execution_count": 0,
      "outputs": []
    }
  ]
}